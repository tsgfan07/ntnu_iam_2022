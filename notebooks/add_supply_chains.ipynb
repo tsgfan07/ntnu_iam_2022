{
 "cells": [
  {
   "cell_type": "code",
   "execution_count": 1,
   "metadata": {},
   "outputs": [
    {
     "data": {
      "application/javascript": "if (typeof IPython !== 'undefined') { IPython.OutputArea.prototype._should_scroll = function(lines){ return false; }}",
      "text/plain": [
       "<IPython.core.display.Javascript object>"
      ]
     },
     "metadata": {},
     "output_type": "display_data"
    }
   ],
   "source": [
    "# load packages\n",
    "import ixmp                    # package for ix modeling platform\n",
    "import message_ix              # package for MESSAGEix model\n",
    "from message_ix.utils import make_df\n",
    "import matplotlib.pyplot as plt"
   ]
  },
  {
   "cell_type": "code",
   "execution_count": 6,
   "metadata": {},
   "outputs": [],
   "source": [
    "# Loading the platform (and getting conected to a local database)\n",
    "mp = ixmp.Platform()"
   ]
  },
  {
   "cell_type": "code",
   "execution_count": 3,
   "metadata": {},
   "outputs": [],
   "source": [
    "model='MESSAGEix South Africa'\n",
    "scenario_name='added fuel'\n",
    "baseline = message_ix.Scenario(mp, model=model, \n",
    "                               scenario='baseline')"
   ]
  },
  {
   "cell_type": "code",
   "execution_count": 7,
   "metadata": {},
   "outputs": [],
   "source": [
    "try:\n",
    "    if len(mp.scenario_list(model=model, scen=scenario_name))>0:\n",
    "        scenario = message_ix.Scenario(mp, model=model, scenario=scenario_name)\n",
    "except ValueError:\n",
    "    # make new scenario\n",
    "    scenario = baseline.clone(model=model, scenario=scenario_name, annotation='more sophisticated supply chains, attention to units', keep_solution=False)\n",
    "try:\n",
    "    scenario.remove_solution()\n",
    "except Exception:\n",
    "    pass\n",
    "#scenario.check_out()"
   ]
  },
  {
   "cell_type": "code",
   "execution_count": 8,
   "metadata": {},
   "outputs": [],
   "source": [
    "scenario.solve()"
   ]
  },
  {
   "cell_type": "code",
   "execution_count": 113,
   "metadata": {},
   "outputs": [
    {
     "name": "stdout",
     "output_type": "stream",
     "text": [
      "first model year 2020\n",
      "the past is [1955, 1960, 1965, 1970, 1975, 1980, 1985, 1990, 1995, 2000, 2005, 2010]\n",
      "the future is [2020, 2030, 2040, 2050, 2060, 2070]\n"
     ]
    }
   ],
   "source": [
    "# look at time\n",
    "years = scenario.set('year').tolist()\n",
    "# find first \n",
    "print('first model year', scenario.firstmodelyear)\n",
    "\n",
    "# Retrieve historic time-steps\n",
    "history = [y for y in years if y < scenario.firstmodelyear]\n",
    "future = [y for y in years if y >= scenario.firstmodelyear]\n",
    "print('the past is' , history)\n",
    "print('the future is' , future)"
   ]
  },
  {
   "cell_type": "code",
   "execution_count": 114,
   "metadata": {},
   "outputs": [],
   "source": [
    "# data needs \n",
    "demand_vector = {}# includes historic demand in GWa/a 2010\n",
    "\n",
    "technical_lifetime_for_technologies = {'hb_ammonia':25} # in years\n",
    "historical_activity_for_technologies =  {} # in GWa/a, by year https://www.indexmundi.com/minerals/?country=za&product=ammonia\n",
    "historical_new_capacity_for_technologies = {}# in GW\\a\n",
    "investment_cost_for_technologies= {}# in USD/kW by year\n",
    "fix_cost_for_technologies = {}# in USD/kW/a, by year\n",
    "var_cost_for_technologies = {}# in USD/kWa, by year\n",
    "\n",
    "input_matrices_for_technologies = {}# no unit\n",
    "output_matrices_for_technologies = {}# no unit, usually one \n",
    "emission_factors_for_technologies= {}# in MtCO2eq/GWa, by year\n",
    "\n",
    "# TODO check these\n",
    "# prfcons\n",
    "# p_ref\n",
    "\n",
    "# irrelevant\n",
    "construction_time_for_technologies = 1 # in years, \n",
    "flexibility_factors_for_technologies = 1 #between 0 and 1, by year\n",
    "##initial_acitivity_up # paraemter to delimit activity change??\n",
    "#initial_new_capacity_up??  # parameter to delimint capacity change\n",
    "# relation_activity # in Gwa/a # probably just a placeholder\n"
   ]
  },
  {
   "cell_type": "markdown",
   "metadata": {},
   "source": [
    "## Add all the model sets and parameters"
   ]
  },
  {
   "cell_type": "markdown",
   "metadata": {},
   "source": [
    "### list all technologies that are covered\n",
    "1. Steam-Methane-Reformation \n",
    "    -   Inputs: Methane(2.2t), Heat (5.7MWh), Water (4.9t) https://en.wikipedia.org/wiki/Hydrogen_production\n",
    "    -   Output: Hydrogen (1.1t)\n",
    "    -   Emissions: CO2eq (6.0t)\n",
    "1. Proton-Membrane-Fuel-Cell\n",
    "    - Inputs: Electricity (39.4 MWh), Water (9.1t) https://en.wikipedia.org/wiki/Hydrogen_production\n",
    "    - Output: Hydrogen (1.1t)\n",
    "    - Traditional efficency of 70% today\n",
    "1. Haber Bosch Ammonia Synthesis\n",
    "    - Inputs: Nitrogen, Natural gas (61.1 MW / 50kTonnes) (60% energy efficiency)\n",
    "    - Output: Ammonia\n",
    "    - Investment cost: 111 000 000 USD / 50kTonnes * a https://www.sciencedirect.com/science/article/pii/S0306261919318227\n",
    "    - Operating cost: 1 000 000 USD / 50kTonnes * a https://www.sciencedirect.com/science/article/pii/S0306261919318227\n",
    "    - Lifetime: 25 years https://www.sciencedirect.com/science/article/pii/S0306261919318227\n",
    "    - Emissions: CO2 but this is accounted for in gas production 0.21 kgCO2eq/kwh https://winnipeg.ca/finance/findata/matmgt/documents/2012/682-2012/682-2012_Appendix_H-WSTP_South_End_Plant_Process_Selection_Report/Appendix%207.pdf\n",
    "1. Ammonia synthesis with fuel cell https://www.sciencedirect.com/science/article/pii/S0306261919318227"
   ]
  },
  {
   "cell_type": "code",
   "execution_count": 115,
   "metadata": {},
   "outputs": [],
   "source": [
    "# ammonia activity and demand\n",
    "hours_per_year = 8760\n",
    "kWh_to_GWa = 1/1000000/hours_per_year\n",
    "ammonia_t_to_kwh = 5.17 * 1000\n",
    "ammonia_t_to_gwa = 5.17 * 0.001 / hours_per_year # https://www.ammoniaenergy.org/articles/round-trip-efficiency-of-ammonia-as-a-renewable-energy-transportation-media/\n",
    "nitrogen_mass_share = 0.8244\n",
    "data = {2005: 460000, 2010: 470000} # in t N \n",
    "historical_activity_for_technologies['hb_ammonia'] = {2005: data[2005]/nitrogen_mass_share*ammonia_t_to_gwa, 2010: data[2005]/nitrogen_mass_share*ammonia_t_to_gwa}\n",
    "# ASSUMPTION supply = demand in previous years\n",
    "demand_vector['ammonia'] = historical_activity_for_technologies['hb_ammonia']\n",
    "for year in future:\n",
    "    demand_vector['ammonia'][year] = demand_vector['ammonia'][2010]\n",
    "\n"
   ]
  },
  {
   "cell_type": "code",
   "execution_count": 116,
   "metadata": {},
   "outputs": [],
   "source": [
    "# technology assumptions for Haber Bosch Ammonia production\n",
    "tec = 'hb_ammonia'\n",
    "technical_lifetime_for_technologies[tec] = 25\n",
    "# ASSUMPTION 2005 and 2010 half of the capacity needed for 2010 newly installed\n",
    "historical_new_capacity_for_technologies[tec] = {2005:demand_vector['ammonia'][2010]/5/2, 2010:demand_vector['ammonia'][2010]/5/2}\n",
    "# ASSUMPTION constant costs\n",
    "investment_cost_for_technologies[tec] = [110000000/(50000* ammonia_t_to_kwh / hours_per_year)]*len(years) # TODO double check\n",
    "# ASSUMPTION no fix costs\n",
    "fix_cost_for_technologies[tec] = [0]*len(years)\n",
    "var_cost_for_technologies[tec] = [1000000/(50000* ammonia_t_to_kwh / hours_per_year)] *len(years)\n"
   ]
  },
  {
   "cell_type": "code",
   "execution_count": 117,
   "metadata": {},
   "outputs": [],
   "source": [
    "tec = 'hb_ammonia'\n",
    "output_matrices_for_technologies[tec] = 1\n",
    "input_matrices_for_technologies[tec] = {}\n",
    "input_matrices_for_technologies[tec]['gas'] = 1/0.6\n",
    "# TODO add Methane emissions in CO2eq\n",
    "emission_factors_for_technologies[tec] = 0 # no methane emissions0.21*kWh_to_GWa #MtCO2/"
   ]
  },
  {
   "cell_type": "code",
   "execution_count": 118,
   "metadata": {},
   "outputs": [],
   "source": [
    "# add ammonia as commodity\n",
    "country = 'South Africa'\n",
    "mode='M1'\n",
    "\n",
    "# Adding required information via MESSAGEix sets\n",
    "commodity= 'ammonia'\n",
    "scenario.add_set('commodity', commodity)\n",
    "# Building the required demand table (python DataFrame)\n",
    "import pandas as pd\n",
    "df = pd.DataFrame({'node': country,\n",
    "                   'commodity': commodity,\n",
    "                   'level': 'final',\n",
    "                   'year': [key for key,value in demand_vector[commodity].items()],\n",
    "                   'value': [value for key,value in demand_vector[commodity].items()],    # cup of coffee per year\n",
    "                   'unit': 'GWa/a',\n",
    "                   'time': 'year',\n",
    "                   'mode':mode,\n",
    "                   })\n",
    "scenario.add_par('demand', df)"
   ]
  },
  {
   "cell_type": "code",
   "execution_count": 119,
   "metadata": {},
   "outputs": [],
   "source": [
    "# add technologies\n",
    "tec = 'hb_ammonia'\n",
    "scenario.add_set('technology',tec)\n",
    " \n",
    "# add cost parameters\n",
    "# installation costs\n",
    "# add var costs \n",
    "# add fix costs\n",
    "for vintage_year in years:\n",
    "    base_df = pd.DataFrame({'node_loc':country,'node_dest':country, 'year_vtg':vintage_year,'year_act':years,'mode':mode,'time':'year'})\n",
    "    df = make_df(base_df,technology=tec,value=pd.Series(investment_cost_for_technologies[tec]), unit= 'USD/kW')\n",
    "    scenario.add_par('inv_cost',df)\n",
    "\n",
    "    df = make_df(base_df,technology=tec,value=pd.Series(fix_cost_for_technologies[tec]), unit='USD/kWa')\n",
    "    scenario.add_par('fix_cost',df)\n",
    "    \n",
    "    df = make_df(base_df,technology=tec,value=pd.Series(var_cost_for_technologies[tec]), unit='USD/kWa')\n",
    "    scenario.add_par('var_cost',df)"
   ]
  },
  {
   "cell_type": "code",
   "execution_count": 120,
   "metadata": {},
   "outputs": [],
   "source": [
    "# add inputs\n",
    "tec = 'hb_ammonia'\n",
    "commodity = 'gas'\n",
    "#  Levels of the reference energy system or supply chain (primary, secondary, … , useful)\n",
    "df = pd.DataFrame({'node_loc':country,\n",
    "                    'technology':tec,\n",
    "                    'node_origin':country,\n",
    "                    'mode':mode,\n",
    "                    'commodity': commodity,\n",
    "                    'year_vtg':years,\n",
    "                    'year_act': years,\n",
    "                    'level':'secondary',\n",
    "                    'time':'year',\n",
    "                    'time_origin':'year',\n",
    "                    'value':input_matrices_for_technologies[tec][commodity],\n",
    "                    'unit':'-'})\n",
    "\n",
    "scenario.add_par('input',df)"
   ]
  },
  {
   "cell_type": "code",
   "execution_count": 121,
   "metadata": {},
   "outputs": [],
   "source": [
    "# Adding data to the parameter \"output\" for the technology\n",
    "tec = 'hb_ammonia'\n",
    "commodity = 'ammonia'\n",
    "\n",
    "df = pd.DataFrame({'node_loc': country,\n",
    "                   'node_dest': country,\n",
    "                   'technology': tec,\n",
    "                   'commodity': commodity,\n",
    "                   'level': 'final',\n",
    "                   'year_vtg': years,  \n",
    "                   'year_act': years,\n",
    "                   'mode': mode,\n",
    "                   'value': output_matrices_for_technologies[tec],\n",
    "                   'unit': '-',\n",
    "                   'time': 'year',\n",
    "                   'time_dest': 'year',\n",
    "                    })\n",
    "scenario.add_par('output', df)"
   ]
  },
  {
   "cell_type": "code",
   "execution_count": 122,
   "metadata": {},
   "outputs": [],
   "source": [
    "#  Add emission factors\n",
    "tec = 'hb_ammonia'\n",
    "# we now add CO2 emissions to the coal powerplant\n",
    "base_emission_factor = {\n",
    "    'node_loc': country,\n",
    "    'year_vtg': years,\n",
    "    'year_act': years,\n",
    "    'mode': mode,\n",
    "    'unit': 'tCO2/kWa',\n",
    "}\n",
    "\n",
    "emission_factor = make_df(base_emission_factor, technology= tec, emission= 'CO2', value = emission_factors_for_technologies[tec])\n",
    "scenario.add_par('emission_factor', emission_factor)"
   ]
  },
  {
   "cell_type": "code",
   "execution_count": 123,
   "metadata": {},
   "outputs": [],
   "source": [
    "base_technical_lifetime = {\n",
    "    'node_loc': country,\n",
    "    'year_vtg': years,\n",
    "    'unit': 'y',\n",
    "}\n",
    "for tec, val in technical_lifetime_for_technologies.items():\n",
    "    df = make_df(base_technical_lifetime, technology=tec, value=val)\n",
    "    scenario.add_par('technical_lifetime', df)"
   ]
  },
  {
   "cell_type": "code",
   "execution_count": 124,
   "metadata": {},
   "outputs": [],
   "source": [
    "\n",
    "scenario.commit('added ammonia supply and demand')"
   ]
  },
  {
   "cell_type": "code",
   "execution_count": 125,
   "metadata": {},
   "outputs": [],
   "source": [
    "# artifically add hydrogen demand\n",
    "scenario.check_out()\n",
    "# add ammonia as commodity\n",
    "country = 'South Africa'\n",
    "mode='M1'\n",
    "\n",
    "# Adding required information via MESSAGEix sets\n",
    "commodity= 'hydrogen'\n",
    "scenario.add_set('commodity', commodity)\n",
    "# Building the required demand table (python DataFrame)\n",
    "import pandas as pd\n",
    "df = pd.DataFrame({'node': country,\n",
    "                   'commodity': commodity,\n",
    "                   'level': 'final',\n",
    "                   'year': [key for key,value in demand_vector['ammonia'].items()],\n",
    "                   'value': [value for key,value in demand_vector['ammonia'].items()],    # cup of coffee per year\n",
    "                   'unit': 'GWa/a',\n",
    "                   'time': 'year',\n",
    "                   'mode':mode,\n",
    "                   })\n",
    "scenario.add_par('demand', df)\n",
    "scenario.commit('hydrogen added')"
   ]
  },
  {
   "cell_type": "code",
   "execution_count": 132,
   "metadata": {},
   "outputs": [],
   "source": [
    "scenario.discard_changes()\n",
    "scenario.solve()"
   ]
  },
  {
   "cell_type": "code",
   "execution_count": 133,
   "metadata": {},
   "outputs": [
    {
     "data": {
      "text/plain": [
       "{'lvl': 22625842.0, 'mrg': 0.0}"
      ]
     },
     "execution_count": 133,
     "metadata": {},
     "output_type": "execute_result"
    }
   ],
   "source": [
    "# Objective value (why is it zero?)\n",
    "scenario.var('OBJ')"
   ]
  },
  {
   "cell_type": "code",
   "execution_count": null,
   "metadata": {},
   "outputs": [],
   "source": []
  },
  {
   "cell_type": "code",
   "execution_count": null,
   "metadata": {},
   "outputs": [],
   "source": [
    "# TODO add\n",
    "# flexibility_factors_for_technologies = #between 0 and 1, by year\n",
    "#construction_time_for_technologies = # in years, \n",
    "#historical_activity_for_technologies = # in GWa/a, by year https://www.indexmundi.com/minerals/?country=za&product=ammonia\n",
    "#historical_new_capacity_for_technologies = # in GW\\a\n",
    "\n",
    "#investment_cost_for_technologies= # in USD/kW by year\n",
    "#technical_lifetime_for_technologies = # in years"
   ]
  },
  {
   "cell_type": "code",
   "execution_count": null,
   "metadata": {},
   "outputs": [],
   "source": [
    "#TODO # adjust emission scaling for methane\n",
    "# TODO unit and sign of emissions"
   ]
  },
  {
   "cell_type": "code",
   "execution_count": 9,
   "metadata": {},
   "outputs": [],
   "source": [
    "# close platform connection\n",
    "mp.close_db()"
   ]
  },
  {
   "cell_type": "code",
   "execution_count": null,
   "metadata": {},
   "outputs": [],
   "source": []
  }
 ],
 "metadata": {
  "interpreter": {
   "hash": "a0366774e78c09c1c024cc364fe48a6da409987ff8010a9c1d44dc87dde8e293"
  },
  "kernelspec": {
   "display_name": "Python 3.10.2 ('mesenv')",
   "language": "python",
   "name": "python3"
  },
  "language_info": {
   "codemirror_mode": {
    "name": "ipython",
    "version": 3
   },
   "file_extension": ".py",
   "mimetype": "text/x-python",
   "name": "python",
   "nbconvert_exporter": "python",
   "pygments_lexer": "ipython3",
   "version": "3.10.2"
  },
  "orig_nbformat": 4
 },
 "nbformat": 4,
 "nbformat_minor": 2
}
